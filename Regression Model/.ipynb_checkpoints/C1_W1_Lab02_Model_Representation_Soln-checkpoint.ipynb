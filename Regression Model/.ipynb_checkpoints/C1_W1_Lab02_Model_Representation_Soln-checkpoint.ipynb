{
 "cells": [
  {
   "cell_type": "markdown",
   "metadata": {},
   "source": [
    "# Optional Lab: Model Representation\n",
    "\n",
    "<figure>\n",
    " <img src=\"./images/C1_W1_L3_S1_Lecture_b.png\"   style=\"width:600px;height:200px;\">\n",
    "</figure>"
   ]
  },
  {
   "cell_type": "markdown",
   "metadata": {},
   "source": [
    "## Goals\n",
    "In this lab you will:\n",
    "- Learn to implement the model $f_{w,b}$ for linear regression with one variable"
   ]
  },
  {
   "cell_type": "markdown",
   "metadata": {},
   "source": [
    "## Notation\n",
    "Here is a summary of some of the notation you will encounter.  \n",
    "\n",
    "|General <img width=70/> <br />  Notation  <img width=70/> | Description<img width=350/>| Python (if applicable) |\n",
    "|: ------------|: ------------------------------------------------------------||\n",
    "| $a$ | scalar, non bold                                                      ||\n",
    "| $\\mathbf{a}$ | vector, bold                                                      ||\n",
    "| **Regression** |         |    |     |\n",
    "|  $\\mathbf{x}$ | Training Example feature values (in this lab - Size (1000 sqft))  | `x_train` |   \n",
    "|  $\\mathbf{y}$  | Training Example  targets (in this lab Price (1000s of dollars))  | `y_train` \n",
    "|  $x^{(i)}$, $y^{(i)}$ | $i_{th}$Training Example | `x_i`, `y_i`|\n",
    "| m | Number of training examples | `m`|\n",
    "|  $w$  |  parameter: weight                                 | `w`    |\n",
    "|  $b$           |  parameter: bias                                           | `b`    |     \n",
    "| $f_{w,b}(x^{(i)})$ | The result of the model evaluation at $x^{(i)}$ parameterized by $w,b$: $f_{w,b}(x^{(i)}) = wx^{(i)}+b$  | `f_wb` | \n"
   ]
  },
  {
   "cell_type": "markdown",
   "metadata": {},
   "source": [
    "## Tools\n",
    "In this lab you will make use of: \n",
    "- NumPy, a popular library for scientific computing\n",
    "- Matplotlib, a popular library for plotting data"
   ]
  },
  {
   "cell_type": "code",
   "execution_count": 17,
   "metadata": {},
   "outputs": [],
   "source": [
    "import numpy as np\n",
    "import pandas as pd \n",
    "import matplotlib.pyplot as plt\n",
    "plt.style.use('./deeplearning.mplstyle')"
   ]
  },
  {
   "cell_type": "markdown",
   "metadata": {},
   "source": [
    "# Problem Statement\n",
    "<img align=\"left\" src=\"./images/C1_W1_L3_S1_trainingdata.png\"    style=\" width:380px; padding: 10px;  \" /> \n",
    "\n",
    "As in the lecture, you will use the motivating example of housing price prediction.  \n",
    "This lab will use a simple data set with only two data points - a house with 1000 square feet(sqft) sold for \\\\$300,000 and a house with 2000 square feet sold for \\\\$500,000. These two points will constitute our *data or training set*. In this lab, the units of size are 1000 sqft and the units of price are 1000s of dollars.\n",
    "\n",
    "| Size (1000 sqft)     | Price (1000s of dollars) |\n",
    "| -------------------| ------------------------ |\n",
    "| 1.0               | 300                      |\n",
    "| 2.0               | 500                      |\n",
    "\n",
    "You would like to fit a linear regression model (shown above as the blue straight line) through these two points, so you can then predict price for other houses - say, a house with 1200 sqft.\n"
   ]
  },
  {
   "cell_type": "markdown",
   "metadata": {},
   "source": [
    "Please run the following code cell to create your `x_train` and `y_train` variables. The data is stored in one-dimensional NumPy arrays."
   ]
  },
  {
   "cell_type": "code",
   "execution_count": 4,
   "metadata": {},
   "outputs": [
    {
     "name": "stdout",
     "output_type": "stream",
     "text": [
      "x_train = [1. 2.]\n",
      "y_train = [300. 500.]\n"
     ]
    }
   ],
   "source": [
    "# x_train is the input variable (size in 1000 square feet)\n",
    "# y_train is the target (price in 1000s of dollars)\n",
    "x_train = np.array([1.0, 2.0])\n",
    "y_train = np.array([300.0, 500.0])\n",
    "print(f\"x_train = {x_train}\")\n",
    "print(f\"y_train = {y_train}\")"
   ]
  },
  {
   "cell_type": "markdown",
   "metadata": {},
   "source": [
    ">**Note**: The course will frequently utilize the python 'f-string' output formatting described [here](https://docs.python.org/3/tutorial/inputoutput.html) when printing. The content between the curly braces is evaluated when producing the output."
   ]
  },
  {
   "cell_type": "markdown",
   "metadata": {},
   "source": [
    "### Number of training examples `m`\n",
    "You will use `m` to denote the number of training examples. Numpy arrays have a `.shape` parameter. `x_train.shape` returns a python tuple with an entry for each dimension. `x_train.shape[0]` is the length of the array and number of examples as shown below."
   ]
  },
  {
   "cell_type": "code",
   "execution_count": 3,
   "metadata": {},
   "outputs": [
    {
     "name": "stdout",
     "output_type": "stream",
     "text": [
      "x_train.shape: (2,)\n",
      "Number of training examples is: 2\n"
     ]
    }
   ],
   "source": [
    "# m is the number of training examples\n",
    "print(f\"x_train.shape: {x_train.shape}\")\n",
    "m = x_train.shape[0]\n",
    "print(f\"Number of training examples is: {m}\")"
   ]
  },
  {
   "cell_type": "markdown",
   "metadata": {},
   "source": [
    "One can also use the Python `len()` function as shown below."
   ]
  },
  {
   "cell_type": "code",
   "execution_count": 4,
   "metadata": {},
   "outputs": [
    {
     "name": "stdout",
     "output_type": "stream",
     "text": [
      "Number of training examples is: 2\n"
     ]
    }
   ],
   "source": [
    "# m is the number of training examples\n",
    "m = len(x_train)\n",
    "print(f\"Number of training examples is: {m}\")"
   ]
  },
  {
   "cell_type": "markdown",
   "metadata": {},
   "source": [
    "### Training example `x_i, y_i`\n",
    "\n",
    "You will use (x$^{(i)}$, y$^{(i)}$) to denote the $i^{th}$ training example. Since Python is zero indexed, (x$^{(0)}$, y$^{(0)}$) is (1.0, 300.0) and (x$^{(1)}$, y$^{(1)}$) is (2.0, 500.0). \n",
    "\n",
    "To access a value in a Numpy array, one indexes the array with the desired offset. For example the syntax to access location zero of `x_train` is `x_train[0]`.\n",
    "Run the next code block below to get the $i^{th}$ training example."
   ]
  },
  {
   "cell_type": "code",
   "execution_count": 5,
   "metadata": {},
   "outputs": [
    {
     "name": "stdout",
     "output_type": "stream",
     "text": [
      "(x^(0), y^(0)) = (1.0, 300.0)\n"
     ]
    }
   ],
   "source": [
    "i = 0 # Change this to 1 to see (x^1, y^1)\n",
    "\n",
    "x_i = x_train[i]\n",
    "y_i = y_train[i]\n",
    "print(f\"(x^({i}), y^({i})) = ({x_i}, {y_i})\")"
   ]
  },
  {
   "cell_type": "markdown",
   "metadata": {},
   "source": [
    "### Plotting the data"
   ]
  },
  {
   "cell_type": "markdown",
   "metadata": {},
   "source": [
    "You can plot these two points using the `scatter()` function in the `matplotlib` library, as shown in the cell below. \n",
    "- The function arguments `marker` and `c` show the points as red crosses (the default is blue dots).\n",
    "\n",
    "You can use other functions in the `matplotlib` library to set the title and labels to display"
   ]
  },
  {
   "cell_type": "code",
   "execution_count": 6,
   "metadata": {},
   "outputs": [
    {
     "data": {
      "image/png": "[encoded data removed]",
      "text/plain": [
       "<Figure size 432x288 with 1 Axes>"
      ]
     },
     "metadata": {},
     "output_type": "display_data"
    }
   ],
   "source": [
    "# Plot the data points\n",
    "plt.scatter(x_train, y_train, marker='x', c='r')\n",
    "# Set the title\n",
    "plt.title(\"Housing Prices\")\n",
    "# Set the y-axis label\n",
    "plt.ylabel('Price (in 1000s of dollars)')\n",
    "# Set the x-axis label\n",
    "plt.xlabel('Size (1000 sqft)')\n",
    "plt.show()"
   ]
  },
  {
   "cell_type": "markdown",
   "metadata": {},
   "source": [
    "## Model function\n",
    "\n",
    "<img align=\"left\" src=\"./images/C1_W1_L3_S1_model.png\"     style=\" width:380px; padding: 10px; \" > As described in lecture, the model function for linear regression (which is a function that maps from `x` to `y`) is represented as \n",
    "\n",
    "$$ f_{w,b}(x^{(i)}) = wx^{(i)} + b \\tag{1}$$\n",
    "\n",
    "The formula above is how you can represent straight lines - different values of $w$ and $b$ give you different straight lines on the plot. <br/> <br/> <br/> <br/> <br/> \n",
    "\n",
    "Let's try to get a better intuition for this through the code blocks below. Let's start with $w = 100$ and $b = 100$. \n",
    "\n",
    "**Note: You can come back to this cell to adjust the model's w and b parameters**"
   ]
  },
  {
   "cell_type": "code",
   "execution_count": 7,
   "metadata": {},
   "outputs": [
    {
     "name": "stdout",
     "output_type": "stream",
     "text": [
      "w: 100\n",
      "b: 100\n"
     ]
    }
   ],
   "source": [
    "w = 100\n",
    "b = 100\n",
    "print(f\"w: {w}\")\n",
    "print(f\"b: {b}\")"
   ]
  },
  {
   "cell_type": "markdown",
   "metadata": {},
   "source": [
    "Now, let's compute the value of $f_{w,b}(x^{(i)})$ for your two data points. You can explicitly write this out for each data point as - \n",
    "\n",
    "for $x^{(0)}$, `f_wb = w * x[0] + b`\n",
    "\n",
    "for $x^{(1)}$, `f_wb = w * x[1] + b`\n",
    "\n",
    "For a large number of data points, this can get unwieldy and repetitive. So instead, you can calculate the function output in a `for` loop as shown in the `compute_model_output` function below.\n",
    "> **Note**: The argument description `(ndarray (m,))` describes a Numpy n-dimensional array of shape (m,). `(scalar)` describes an argument without dimensions, just a magnitude.  \n",
    "> **Note**: `np.zero(n)` will return a one-dimensional numpy array with $n$ entries   \n"
   ]
  },
  {
   "cell_type": "code",
   "execution_count": 8,
   "metadata": {},
   "outputs": [],
   "source": [
    "def compute_model_output(x, w, b):\n",
    "    \"\"\"\n",
    "    Computes the prediction of a linear model\n",
    "    Args:\n",
    "      x (ndarray (m,)): Data, m examples \n",
    "      w,b (scalar)    : model parameters  \n",
    "    Returns\n",
    "      y (ndarray (m,)): target values\n",
    "    \"\"\"\n",
    "    m = x.shape[0]\n",
    "    f_wb = np.zeros(m)\n",
    "    for i in range(m):\n",
    "        f_wb[i] = w * x[i] + b\n",
    "        \n",
    "    return f_wb"
   ]
  },
  {
   "cell_type": "code",
   "execution_count": null,
   "metadata": {},
   "outputs": [],
   "source": []
  },
  {
   "cell_type": "markdown",
   "metadata": {},
   "source": [
    "Now let's call the `compute_model_output` function and plot the output.."
   ]
  },
  {
   "cell_type": "code",
   "execution_count": 9,
   "metadata": {},
   "outputs": [
    {
     "name": "stdout",
     "output_type": "stream",
     "text": [
      "[200. 300.]\n"
     ]
    },
    {
     "data": {
      "image/png": "[encoded data removed]",
      "text/plain": [
       "<Figure size 432x288 with 1 Axes>"
      ]
     },
     "metadata": {},
     "output_type": "display_data"
    }
   ],
   "source": [
    "tmp_f_wb = compute_model_output(x_train, w, b,)\n",
    "print(tmp_f_wb)\n",
    "# Plot our model prediction\n",
    "plt.plot(x_train, tmp_f_wb, c='b',label='Our Prediction')\n",
    "\n",
    "# Plot the data points\n",
    "plt.scatter(x_train, y_train, marker='x', c='r',label='Actual Values')\n",
    "\n",
    "# Set the title\n",
    "plt.title(\"Housing Prices\")\n",
    "# Set the y-axis label\n",
    "plt.ylabel('Price (in 1000s of dollars)')\n",
    "# Set the x-axis label\n",
    "plt.xlabel('Size (1000 sqft)')\n",
    "plt.legend()\n",
    "plt.show()"
   ]
  },
  {
   "cell_type": "markdown",
   "metadata": {},
   "source": [
    "As you can see, setting $w = 100$ and $b = 100$ does *not* result in a line that fits our data. \n",
    "\n",
    "### Challenge\n",
    "Try experimenting with different values of $w$ and $b$. What should the values be for a line that fits our data?\n",
    "\n",
    "#### Tip:\n",
    "You can use your mouse to click on the green \"Hints\" below to reveal some hints for choosing b and w."
   ]
  },
  {
   "cell_type": "code",
   "execution_count": 55,
   "metadata": {},
   "outputs": [],
   "source": [
    "def w_b_value(x,y):\n",
    "    \"\"\"\"\n",
    "    use Cost function to find w in y=wx function\n",
    "    \"\"\"\"\n",
    "    err_sqr=0\n",
    "    for i in range(500):\n",
    "        for a in range(len(x_train)):\n",
    "            err_sqr=err_sqr+((x_train[a]*i-y_train[a])**2)\n",
    "            J=1/(2*(i+1))*err_sqr\n",
    "            cost_f.update({i:J})\n",
    "    Cost_df=pd.DataFrame(cost_f,index=['Cost_F']).T\n",
    "    Cost_df.plot()\n",
    "    Best_w=Cost_df[Cost_df['Cost_F'] == Cost_df['Cost_F'].min()]\n",
    "    return Best_w\n",
    "            \n",
    "     \n"
   ]
  },
  {
   "cell_type": "code",
   "execution_count": 56,
   "metadata": {},
   "outputs": [
    {
     "data": {
      "text/html": [
       "<div>\n",
       "<style scoped>\n",
       "    .dataframe tbody tr th:only-of-type {\n",
       "        vertical-align: middle;\n",
       "    }\n",
       "\n",
       "    .dataframe tbody tr th {\n",
       "        vertical-align: top;\n",
       "    }\n",
       "\n",
       "    .dataframe thead th {\n",
       "        text-align: right;\n",
       "    }\n",
       "</style>\n",
       "<table border=\"1\" class=\"dataframe\">\n",
       "  <thead>\n",
       "    <tr style=\"text-align: right;\">\n",
       "      <th></th>\n",
       "      <th>Cost_F</th>\n",
       "    </tr>\n",
       "  </thead>\n",
       "  <tbody>\n",
       "    <tr>\n",
       "      <th>390</th>\n",
       "      <td>43412.5</td>\n",
       "    </tr>\n",
       "  </tbody>\n",
       "</table>\n",
       "</div>"
      ],
      "text/plain": [
       "      Cost_F\n",
       "390  43412.5"
      ]
     },
     "execution_count": 56,
     "metadata": {},
     "output_type": "execute_result"
    },
    {
     "data": {
      "image/png": "[encoded data removed]",
      "text/plain": [
       "<Figure size 432x288 with 1 Axes>"
      ]
     },
     "metadata": {},
     "output_type": "display_data"
    }
   ],
   "source": [
    "w_b_value(x_train,y_train)"
   ]
  },
  {
   "cell_type": "code",
   "execution_count": 14,
   "metadata": {},
   "outputs": [],
   "source": [
    "# err_sqr=0\n",
    "# cost_f={}\n",
    "# x_train=[1,2]\n",
    "# y_train=[300,500]\n",
    "# for i in range(500):\n",
    "#     for a in range(len(x_train)):\n",
    "#         err_sqr=err_sqr+((x_train[a]*i-y_train[a])**2)\n",
    "#         J=1/2*(i+1)*err_sqr\n",
    "#         cost_f.update({i:J})\n",
    "# print(cost_f)"
   ]
  },
  {
   "cell_type": "code",
   "execution_count": 26,
   "metadata": {},
   "outputs": [
    {
     "data": {
      "text/plain": [
       "{0: 170000.0,\n",
       " 1: 169351.25,\n",
       " 2: 168704.16666666666,\n",
       " 3: 168058.75,\n",
       " 4: 167415.0,\n",
       " 5: 166772.91666666666,\n",
       " 6: 166132.5,\n",
       " 7: 165493.75,\n",
       " 8: 164856.66666666666,\n",
       " 9: 164221.25,\n",
       " 10: 163587.5,\n",
       " 11: 162955.41666666666,\n",
       " 12: 162325.0,\n",
       " 13: 161696.25,\n",
       " 14: 161069.16666666666,\n",
       " 15: 160443.75,\n",
       " 16: 159820.0,\n",
       " 17: 159197.91666666666,\n",
       " 18: 158577.5,\n",
       " 19: 157958.75,\n",
       " 20: 157341.66666666666,\n",
       " 21: 156726.25,\n",
       " 22: 156112.5,\n",
       " 23: 155500.41666666666,\n",
       " 24: 154890.0,\n",
       " 25: 154281.25,\n",
       " 26: 153674.16666666666,\n",
       " 27: 153068.75,\n",
       " 28: 152465.0,\n",
       " 29: 151862.91666666666,\n",
       " 30: 151262.5,\n",
       " 31: 150663.75,\n",
       " 32: 150066.66666666666,\n",
       " 33: 149471.25,\n",
       " 34: 148877.5,\n",
       " 35: 148285.41666666666,\n",
       " 36: 147695.0,\n",
       " 37: 147106.25,\n",
       " 38: 146519.16666666666,\n",
       " 39: 145933.75,\n",
       " 40: 145350.0,\n",
       " 41: 144767.91666666666,\n",
       " 42: 144187.5,\n",
       " 43: 143608.75,\n",
       " 44: 143031.6666666667,\n",
       " 45: 142456.25,\n",
       " 46: 141882.5,\n",
       " 47: 141310.41666666666,\n",
       " 48: 140740.0,\n",
       " 49: 140171.25,\n",
       " 50: 139604.16666666666,\n",
       " 51: 139038.75,\n",
       " 52: 138475.0,\n",
       " 53: 137912.91666666666,\n",
       " 54: 137352.5,\n",
       " 55: 136793.75,\n",
       " 56: 136236.66666666666,\n",
       " 57: 135681.25,\n",
       " 58: 135127.5,\n",
       " 59: 134575.41666666666,\n",
       " 60: 134025.0,\n",
       " 61: 133476.25,\n",
       " 62: 132929.16666666666,\n",
       " 63: 132383.75,\n",
       " 64: 131840.0,\n",
       " 65: 131297.91666666666,\n",
       " 66: 130757.5,\n",
       " 67: 130218.75,\n",
       " 68: 129681.66666666667,\n",
       " 69: 129146.25,\n",
       " 70: 128612.5,\n",
       " 71: 128080.41666666666,\n",
       " 72: 127550.0,\n",
       " 73: 127021.25,\n",
       " 74: 126494.16666666667,\n",
       " 75: 125968.75,\n",
       " 76: 125445.00000000001,\n",
       " 77: 124922.91666666666,\n",
       " 78: 124402.5,\n",
       " 79: 123883.75,\n",
       " 80: 123366.66666666666,\n",
       " 81: 122851.25,\n",
       " 82: 122337.5,\n",
       " 83: 121825.41666666666,\n",
       " 84: 121315.0,\n",
       " 85: 120806.25,\n",
       " 86: 120299.16666666667,\n",
       " 87: 119793.75,\n",
       " 88: 119290.0,\n",
       " 89: 118787.91666666667,\n",
       " 90: 118287.50000000001,\n",
       " 91: 117788.75,\n",
       " 92: 117291.66666666667,\n",
       " 93: 116796.25,\n",
       " 94: 116302.5,\n",
       " 95: 115810.41666666666,\n",
       " 96: 115320.0,\n",
       " 97: 114831.24999999999,\n",
       " 98: 114344.16666666667,\n",
       " 99: 113858.75,\n",
       " 100: 113375.0,\n",
       " 101: 112892.91666666667,\n",
       " 102: 112412.49999999999,\n",
       " 103: 111933.75,\n",
       " 104: 111456.66666666667,\n",
       " 105: 110981.25,\n",
       " 106: 110507.49999999999,\n",
       " 107: 110035.41666666666,\n",
       " 108: 109565.0,\n",
       " 109: 109096.25,\n",
       " 110: 108629.16666666667,\n",
       " 111: 108163.75,\n",
       " 112: 107700.0,\n",
       " 113: 107237.91666666666,\n",
       " 114: 106777.5,\n",
       " 115: 106318.75,\n",
       " 116: 105861.66666666667,\n",
       " 117: 105406.25,\n",
       " 118: 104952.5,\n",
       " 119: 104500.41666666667,\n",
       " 120: 104050.0,\n",
       " 121: 103601.25,\n",
       " 122: 103154.16666666667,\n",
       " 123: 102708.75,\n",
       " 124: 102265.0,\n",
       " 125: 101822.91666666666,\n",
       " 126: 101382.5,\n",
       " 127: 100943.75,\n",
       " 128: 100506.66666666667,\n",
       " 129: 100071.25,\n",
       " 130: 99637.5,\n",
       " 131: 99205.41666666667,\n",
       " 132: 98775.0,\n",
       " 133: 98346.25,\n",
       " 134: 97919.16666666667,\n",
       " 135: 97493.75,\n",
       " 136: 97070.0,\n",
       " 137: 96647.91666666667,\n",
       " 138: 96227.5,\n",
       " 139: 95808.75,\n",
       " 140: 95391.66666666667,\n",
       " 141: 94976.25,\n",
       " 142: 94562.5,\n",
       " 143: 94150.41666666666,\n",
       " 144: 93740.0,\n",
       " 145: 93331.25,\n",
       " 146: 92924.16666666666,\n",
       " 147: 92518.75,\n",
       " 148: 92115.0,\n",
       " 149: 91712.91666666667,\n",
       " 150: 91312.5,\n",
       " 151: 90913.75,\n",
       " 152: 90516.66666666667,\n",
       " 153: 90121.25,\n",
       " 154: 89727.5,\n",
       " 155: 89335.41666666666,\n",
       " 156: 88945.0,\n",
       " 157: 88556.25,\n",
       " 158: 88169.16666666667,\n",
       " 159: 87783.75,\n",
       " 160: 87400.0,\n",
       " 161: 87017.91666666666,\n",
       " 162: 86637.5,\n",
       " 163: 86258.75,\n",
       " 164: 85881.66666666667,\n",
       " 165: 85506.25,\n",
       " 166: 85132.5,\n",
       " 167: 84760.41666666666,\n",
       " 168: 84390.0,\n",
       " 169: 84021.25,\n",
       " 170: 83654.16666666666,\n",
       " 171: 83288.75,\n",
       " 172: 82925.0,\n",
       " 173: 82562.91666666667,\n",
       " 174: 82202.5,\n",
       " 175: 81843.75,\n",
       " 176: 81486.66666666667,\n",
       " 177: 81131.25,\n",
       " 178: 80777.5,\n",
       " 179: 80425.41666666667,\n",
       " 180: 80075.0,\n",
       " 181: 79726.25,\n",
       " 182: 79379.16666666667,\n",
       " 183: 79033.75,\n",
       " 184: 78690.0,\n",
       " 185: 78347.91666666667,\n",
       " 186: 78007.5,\n",
       " 187: 77668.75,\n",
       " 188: 77331.66666666666,\n",
       " 189: 76996.25,\n",
       " 190: 76662.5,\n",
       " 191: 76330.41666666666,\n",
       " 192: 76000.0,\n",
       " 193: 75671.25,\n",
       " 194: 75344.16666666667,\n",
       " 195: 75018.75,\n",
       " 196: 74695.0,\n",
       " 197: 74372.91666666667,\n",
       " 198: 74052.5,\n",
       " 199: 73733.75,\n",
       " 200: 73416.66666666667,\n",
       " 201: 73101.25,\n",
       " 202: 72787.5,\n",
       " 203: 72475.41666666667,\n",
       " 204: 72165.0,\n",
       " 205: 71856.25,\n",
       " 206: 71549.16666666666,\n",
       " 207: 71243.75,\n",
       " 208: 70940.0,\n",
       " 209: 70637.91666666667,\n",
       " 210: 70337.5,\n",
       " 211: 70038.75,\n",
       " 212: 69741.66666666667,\n",
       " 213: 69446.25,\n",
       " 214: 69152.5,\n",
       " 215: 68860.41666666666,\n",
       " 216: 68570.0,\n",
       " 217: 68281.25,\n",
       " 218: 67994.16666666666,\n",
       " 219: 67708.75,\n",
       " 220: 67425.0,\n",
       " 221: 67142.91666666667,\n",
       " 222: 66862.5,\n",
       " 223: 66583.75,\n",
       " 224: 66306.66666666667,\n",
       " 225: 66031.25,\n",
       " 226: 65757.5,\n",
       " 227: 65485.416666666664,\n",
       " 228: 65215.0,\n",
       " 229: 64946.25,\n",
       " 230: 64679.166666666664,\n",
       " 231: 64413.75,\n",
       " 232: 64150.0,\n",
       " 233: 63887.91666666667,\n",
       " 234: 63627.5,\n",
       " 235: 63368.75,\n",
       " 236: 63111.666666666664,\n",
       " 237: 62856.25,\n",
       " 238: 62602.49999999999,\n",
       " 239: 62350.416666666664,\n",
       " 240: 62100.0,\n",
       " 241: 61851.25,\n",
       " 242: 61604.16666666667,\n",
       " 243: 61358.75,\n",
       " 244: 61115.00000000001,\n",
       " 245: 60872.91666666667,\n",
       " 246: 60632.5,\n",
       " 247: 60393.75,\n",
       " 248: 60156.666666666664,\n",
       " 249: 59921.25,\n",
       " 250: 59687.5,\n",
       " 251: 59455.416666666664,\n",
       " 252: 59224.99999999999,\n",
       " 253: 58996.25,\n",
       " 254: 58769.166666666664,\n",
       " 255: 58543.75,\n",
       " 256: 58320.0,\n",
       " 257: 58097.916666666664,\n",
       " 258: 57877.5,\n",
       " 259: 57658.75,\n",
       " 260: 57441.666666666664,\n",
       " 261: 57226.25,\n",
       " 262: 57012.5,\n",
       " 263: 56800.41666666667,\n",
       " 264: 56590.0,\n",
       " 265: 56381.25,\n",
       " 266: 56174.166666666664,\n",
       " 267: 55968.75,\n",
       " 268: 55765.0,\n",
       " 269: 55562.91666666667,\n",
       " 270: 55362.5,\n",
       " 271: 55163.75,\n",
       " 272: 54966.666666666664,\n",
       " 273: 54771.25,\n",
       " 274: 54577.5,\n",
       " 275: 54385.416666666664,\n",
       " 276: 54195.0,\n",
       " 277: 54006.25,\n",
       " 278: 53819.166666666664,\n",
       " 279: 53633.75,\n",
       " 280: 53450.0,\n",
       " 281: 53267.916666666664,\n",
       " 282: 53087.5,\n",
       " 283: 52908.75,\n",
       " 284: 52731.666666666664,\n",
       " 285: 52556.25,\n",
       " 286: 52382.5,\n",
       " 287: 52210.416666666664,\n",
       " 288: 52040.0,\n",
       " 289: 51871.25,\n",
       " 290: 51704.166666666664,\n",
       " 291: 51538.75,\n",
       " 292: 51375.0,\n",
       " 293: 51212.916666666664,\n",
       " 294: 51052.5,\n",
       " 295: 50893.75,\n",
       " 296: 50736.666666666664,\n",
       " 297: 50581.25,\n",
       " 298: 50427.5,\n",
       " 299: 50275.41666666667,\n",
       " 300: 50125.0,\n",
       " 301: 49976.25,\n",
       " 302: 49829.166666666664,\n",
       " 303: 49683.75,\n",
       " 304: 49540.0,\n",
       " 305: 49397.91666666667,\n",
       " 306: 49257.5,\n",
       " 307: 49118.75,\n",
       " 308: 48981.66666666667,\n",
       " 309: 48846.25,\n",
       " 310: 48712.5,\n",
       " 311: 48580.416666666664,\n",
       " 312: 48450.0,\n",
       " 313: 48321.25,\n",
       " 314: 48194.166666666664,\n",
       " 315: 48068.75,\n",
       " 316: 47945.0,\n",
       " 317: 47822.91666666667,\n",
       " 318: 47702.5,\n",
       " 319: 47583.75,\n",
       " 320: 47466.666666666664,\n",
       " 321: 47351.25,\n",
       " 322: 47237.5,\n",
       " 323: 47125.416666666664,\n",
       " 324: 47015.0,\n",
       " 325: 46906.25,\n",
       " 326: 46799.166666666664,\n",
       " 327: 46693.75,\n",
       " 328: 46590.0,\n",
       " 329: 46487.916666666664,\n",
       " 330: 46387.5,\n",
       " 331: 46288.75,\n",
       " 332: 46191.666666666664,\n",
       " 333: 46096.25,\n",
       " 334: 46002.5,\n",
       " 335: 45910.416666666664,\n",
       " 336: 45820.0,\n",
       " 337: 45731.25,\n",
       " 338: 45644.166666666664,\n",
       " 339: 45558.75,\n",
       " 340: 45475.0,\n",
       " 341: 45392.916666666664,\n",
       " 342: 45312.5,\n",
       " 343: 45233.75,\n",
       " 344: 45156.666666666664,\n",
       " 345: 45081.25,\n",
       " 346: 45007.5,\n",
       " 347: 44935.416666666664,\n",
       " 348: 44865.0,\n",
       " 349: 44796.25,\n",
       " 350: 44729.16666666667,\n",
       " 351: 44663.75,\n",
       " 352: 44600.0,\n",
       " 353: 44537.916666666664,\n",
       " 354: 44477.5,\n",
       " 355: 44418.75,\n",
       " 356: 44361.666666666664,\n",
       " 357: 44306.25,\n",
       " 358: 44252.5,\n",
       " 359: 44200.41666666667,\n",
       " 360: 44150.0,\n",
       " 361: 44101.25,\n",
       " 362: 44054.16666666667,\n",
       " 363: 44008.75,\n",
       " 364: 43965.0,\n",
       " 365: 43922.916666666664,\n",
       " 366: 43882.5,\n",
       " 367: 43843.75,\n",
       " 368: 43806.666666666664,\n",
       " 369: 43771.25,\n",
       " 370: 43737.5,\n",
       " 371: 43705.41666666667,\n",
       " 372: 43675.0,\n",
       " 373: 43646.25,\n",
       " 374: 43619.166666666664,\n",
       " 375: 43593.75,\n",
       " 376: 43570.0,\n",
       " 377: 43547.916666666664,\n",
       " 378: 43527.5,\n",
       " 379: 43508.75,\n",
       " 380: 43491.666666666664,\n",
       " 381: 43476.25,\n",
       " 382: 43462.5,\n",
       " 383: 43450.416666666664,\n",
       " 384: 43440.0,\n",
       " 385: 43431.25,\n",
       " 386: 43424.16666666667,\n",
       " 387: 43418.75,\n",
       " 388: 43415.0,\n",
       " 389: 43412.916666666664,\n",
       " 390: 43412.5,\n",
       " 391: 43413.75,\n",
       " 392: 43416.66666666667,\n",
       " 393: 43421.25,\n",
       " 394: 43427.5,\n",
       " 395: 43435.41666666667,\n",
       " 396: 43445.0,\n",
       " 397: 43456.25,\n",
       " 398: 43469.166666666664,\n",
       " 399: 43483.75,\n",
       " 400: 43500.0,\n",
       " 401: 43517.916666666664,\n",
       " 402: 43537.5,\n",
       " 403: 43558.75,\n",
       " 404: 43581.666666666664,\n",
       " 405: 43606.25,\n",
       " 406: 43632.5,\n",
       " 407: 43660.416666666664,\n",
       " 408: 43690.0,\n",
       " 409: 43721.25,\n",
       " 410: 43754.166666666664,\n",
       " 411: 43788.74999999999,\n",
       " 412: 43825.0,\n",
       " 413: 43862.916666666664,\n",
       " 414: 43902.50000000001,\n",
       " 415: 43943.75,\n",
       " 416: 43986.666666666664,\n",
       " 417: 44031.25,\n",
       " 418: 44077.5,\n",
       " 419: 44125.41666666667,\n",
       " 420: 44175.0,\n",
       " 421: 44226.25,\n",
       " 422: 44279.166666666664,\n",
       " 423: 44333.75,\n",
       " 424: 44389.99999999999,\n",
       " 425: 44447.916666666664,\n",
       " 426: 44507.5,\n",
       " 427: 44568.75,\n",
       " 428: 44631.666666666664,\n",
       " 429: 44696.25,\n",
       " 430: 44762.5,\n",
       " 431: 44830.416666666664,\n",
       " 432: 44900.0,\n",
       " 433: 44971.25,\n",
       " 434: 45044.166666666664,\n",
       " 435: 45118.75,\n",
       " 436: 45195.0,\n",
       " 437: 45272.916666666664,\n",
       " 438: 45352.5,\n",
       " 439: 45433.75,\n",
       " 440: 45516.666666666664,\n",
       " 441: 45601.25000000001,\n",
       " 442: 45687.49999999999,\n",
       " 443: 45775.416666666664,\n",
       " 444: 45865.00000000001,\n",
       " 445: 45956.25,\n",
       " 446: 46049.166666666664,\n",
       " 447: 46143.75,\n",
       " 448: 46240.0,\n",
       " 449: 46337.916666666664,\n",
       " 450: 46437.5,\n",
       " 451: 46538.75,\n",
       " 452: 46641.666666666664,\n",
       " 453: 46746.25000000001,\n",
       " 454: 46852.5,\n",
       " 455: 46960.416666666664,\n",
       " 456: 47070.0,\n",
       " 457: 47181.25,\n",
       " 458: 47294.16666666667,\n",
       " 459: 47408.75,\n",
       " 460: 47525.0,\n",
       " 461: 47642.916666666664,\n",
       " 462: 47762.5,\n",
       " 463: 47883.75,\n",
       " 464: 48006.666666666664,\n",
       " 465: 48131.25,\n",
       " 466: 48257.5,\n",
       " 467: 48385.41666666667,\n",
       " 468: 48515.0,\n",
       " 469: 48646.25,\n",
       " 470: 48779.166666666664,\n",
       " 471: 48913.75,\n",
       " 472: 49050.0,\n",
       " 473: 49187.916666666664,\n",
       " 474: 49327.5,\n",
       " 475: 49468.75,\n",
       " 476: 49611.66666666667,\n",
       " 477: 49756.24999999999,\n",
       " 478: 49902.49999999999,\n",
       " 479: 50050.416666666664,\n",
       " 480: 50200.0,\n",
       " 481: 50351.25,\n",
       " 482: 50504.16666666667,\n",
       " 483: 50658.75,\n",
       " 484: 50815.0,\n",
       " 485: 50972.91666666667,\n",
       " 486: 51132.5,\n",
       " 487: 51293.75,\n",
       " 488: 51456.66666666667,\n",
       " 489: 51621.25000000001,\n",
       " 490: 51787.49999999999,\n",
       " 491: 51955.41666666667,\n",
       " 492: 52125.0,\n",
       " 493: 52296.25,\n",
       " 494: 52469.166666666664,\n",
       " 495: 52643.75,\n",
       " 496: 52820.00000000001,\n",
       " 497: 52997.916666666664,\n",
       " 498: 53177.49999999999,\n",
       " 499: 53358.75}"
      ]
     },
     "execution_count": 26,
     "metadata": {},
     "output_type": "execute_result"
    }
   ],
   "source": [
    "w_b_value(x_train,y_train)"
   ]
  },
  {
   "cell_type": "code",
   "execution_count": 39,
   "metadata": {},
   "outputs": [
    {
     "ename": "TypeError",
     "evalue": "reset_index() got an unexpected keyword argument 'names'",
     "output_type": "error",
     "traceback": [
      "\u001b[0;31m---------------------------------------------------------------------------\u001b[0m",
      "\u001b[0;31mTypeError\u001b[0m                                 Traceback (most recent call last)",
      "\u001b[0;32m<ipython-input-39-c236f0d45371>\u001b[0m in \u001b[0;36m<module>\u001b[0;34m\u001b[0m\n\u001b[0;32m----> 1\u001b[0;31m \u001b[0mCost_df\u001b[0m\u001b[0;34m=\u001b[0m\u001b[0mpd\u001b[0m\u001b[0;34m.\u001b[0m\u001b[0mDataFrame\u001b[0m\u001b[0;34m(\u001b[0m\u001b[0mw_b_value\u001b[0m\u001b[0;34m(\u001b[0m\u001b[0mx_train\u001b[0m\u001b[0;34m,\u001b[0m\u001b[0my_train\u001b[0m\u001b[0;34m)\u001b[0m\u001b[0;34m,\u001b[0m\u001b[0mindex\u001b[0m\u001b[0;34m=\u001b[0m\u001b[0;34m[\u001b[0m\u001b[0;34m'Cost_F'\u001b[0m\u001b[0;34m]\u001b[0m\u001b[0;34m)\u001b[0m\u001b[0;34m.\u001b[0m\u001b[0mT\u001b[0m\u001b[0;34m.\u001b[0m\u001b[0mreset_index\u001b[0m\u001b[0;34m(\u001b[0m\u001b[0mnames\u001b[0m\u001b[0;34m=\u001b[0m\u001b[0;34m'w'\u001b[0m\u001b[0;34m)\u001b[0m\u001b[0;34m\u001b[0m\u001b[0;34m\u001b[0m\u001b[0m\n\u001b[0m",
      "\u001b[0;31mTypeError\u001b[0m: reset_index() got an unexpected keyword argument 'names'"
     ]
    }
   ],
   "source": [
    "Cost_df=pd.DataFrame(w_b_value(x_train,y_train),index=['Cost_F']).T.reset_index(names='w')\n"
   ]
  },
  {
   "cell_type": "code",
   "execution_count": 36,
   "metadata": {},
   "outputs": [
    {
     "data": {
      "text/html": [
       "<div>\n",
       "<style scoped>\n",
       "    .dataframe tbody tr th:only-of-type {\n",
       "        vertical-align: middle;\n",
       "    }\n",
       "\n",
       "    .dataframe tbody tr th {\n",
       "        vertical-align: top;\n",
       "    }\n",
       "\n",
       "    .dataframe thead th {\n",
       "        text-align: right;\n",
       "    }\n",
       "</style>\n",
       "<table border=\"1\" class=\"dataframe\">\n",
       "  <thead>\n",
       "    <tr style=\"text-align: right;\">\n",
       "      <th></th>\n",
       "      <th>Cost_F</th>\n",
       "    </tr>\n",
       "  </thead>\n",
       "  <tbody>\n",
       "    <tr>\n",
       "      <th>0</th>\n",
       "      <td>170000.000000</td>\n",
       "    </tr>\n",
       "    <tr>\n",
       "      <th>1</th>\n",
       "      <td>169351.250000</td>\n",
       "    </tr>\n",
       "    <tr>\n",
       "      <th>2</th>\n",
       "      <td>168704.166667</td>\n",
       "    </tr>\n",
       "    <tr>\n",
       "      <th>3</th>\n",
       "      <td>168058.750000</td>\n",
       "    </tr>\n",
       "    <tr>\n",
       "      <th>4</th>\n",
       "      <td>167415.000000</td>\n",
       "    </tr>\n",
       "    <tr>\n",
       "      <th>...</th>\n",
       "      <td>...</td>\n",
       "    </tr>\n",
       "    <tr>\n",
       "      <th>495</th>\n",
       "      <td>52643.750000</td>\n",
       "    </tr>\n",
       "    <tr>\n",
       "      <th>496</th>\n",
       "      <td>52820.000000</td>\n",
       "    </tr>\n",
       "    <tr>\n",
       "      <th>497</th>\n",
       "      <td>52997.916667</td>\n",
       "    </tr>\n",
       "    <tr>\n",
       "      <th>498</th>\n",
       "      <td>53177.500000</td>\n",
       "    </tr>\n",
       "    <tr>\n",
       "      <th>499</th>\n",
       "      <td>53358.750000</td>\n",
       "    </tr>\n",
       "  </tbody>\n",
       "</table>\n",
       "<p>500 rows × 1 columns</p>\n",
       "</div>"
      ],
      "text/plain": [
       "            Cost_F\n",
       "0    170000.000000\n",
       "1    169351.250000\n",
       "2    168704.166667\n",
       "3    168058.750000\n",
       "4    167415.000000\n",
       "..             ...\n",
       "495   52643.750000\n",
       "496   52820.000000\n",
       "497   52997.916667\n",
       "498   53177.500000\n",
       "499   53358.750000\n",
       "\n",
       "[500 rows x 1 columns]"
      ]
     },
     "execution_count": 36,
     "metadata": {},
     "output_type": "execute_result"
    }
   ],
   "source": [
    "Cost_df"
   ]
  },
  {
   "cell_type": "code",
   "execution_count": 38,
   "metadata": {},
   "outputs": [
    {
     "data": {
      "text/html": [
       "<div>\n",
       "<style scoped>\n",
       "    .dataframe tbody tr th:only-of-type {\n",
       "        vertical-align: middle;\n",
       "    }\n",
       "\n",
       "    .dataframe tbody tr th {\n",
       "        vertical-align: top;\n",
       "    }\n",
       "\n",
       "    .dataframe thead th {\n",
       "        text-align: right;\n",
       "    }\n",
       "</style>\n",
       "<table border=\"1\" class=\"dataframe\">\n",
       "  <thead>\n",
       "    <tr style=\"text-align: right;\">\n",
       "      <th></th>\n",
       "      <th>Cost_F</th>\n",
       "      <th>w</th>\n",
       "    </tr>\n",
       "  </thead>\n",
       "  <tbody>\n",
       "    <tr>\n",
       "      <th>0</th>\n",
       "      <td>170000.000000</td>\n",
       "      <td>0</td>\n",
       "    </tr>\n",
       "    <tr>\n",
       "      <th>1</th>\n",
       "      <td>169351.250000</td>\n",
       "      <td>1</td>\n",
       "    </tr>\n",
       "    <tr>\n",
       "      <th>2</th>\n",
       "      <td>168704.166667</td>\n",
       "      <td>2</td>\n",
       "    </tr>\n",
       "    <tr>\n",
       "      <th>3</th>\n",
       "      <td>168058.750000</td>\n",
       "      <td>3</td>\n",
       "    </tr>\n",
       "    <tr>\n",
       "      <th>4</th>\n",
       "      <td>167415.000000</td>\n",
       "      <td>4</td>\n",
       "    </tr>\n",
       "    <tr>\n",
       "      <th>...</th>\n",
       "      <td>...</td>\n",
       "      <td>...</td>\n",
       "    </tr>\n",
       "    <tr>\n",
       "      <th>495</th>\n",
       "      <td>52643.750000</td>\n",
       "      <td>495</td>\n",
       "    </tr>\n",
       "    <tr>\n",
       "      <th>496</th>\n",
       "      <td>52820.000000</td>\n",
       "      <td>496</td>\n",
       "    </tr>\n",
       "    <tr>\n",
       "      <th>497</th>\n",
       "      <td>52997.916667</td>\n",
       "      <td>497</td>\n",
       "    </tr>\n",
       "    <tr>\n",
       "      <th>498</th>\n",
       "      <td>53177.500000</td>\n",
       "      <td>498</td>\n",
       "    </tr>\n",
       "    <tr>\n",
       "      <th>499</th>\n",
       "      <td>53358.750000</td>\n",
       "      <td>499</td>\n",
       "    </tr>\n",
       "  </tbody>\n",
       "</table>\n",
       "<p>500 rows × 2 columns</p>\n",
       "</div>"
      ],
      "text/plain": [
       "            Cost_F    w\n",
       "0    170000.000000    0\n",
       "1    169351.250000    1\n",
       "2    168704.166667    2\n",
       "3    168058.750000    3\n",
       "4    167415.000000    4\n",
       "..             ...  ...\n",
       "495   52643.750000  495\n",
       "496   52820.000000  496\n",
       "497   52997.916667  497\n",
       "498   53177.500000  498\n",
       "499   53358.750000  499\n",
       "\n",
       "[500 rows x 2 columns]"
      ]
     },
     "execution_count": 38,
     "metadata": {},
     "output_type": "execute_result"
    }
   ],
   "source": [
    "#Cost_df['w']=range(500)\n",
    "Cost_df"
   ]
  },
  {
   "cell_type": "code",
   "execution_count": 44,
   "metadata": {},
   "outputs": [
    {
     "data": {
      "text/plain": [
       "<matplotlib.axes._subplots.AxesSubplot at 0x7f6b90501f50>"
      ]
     },
     "execution_count": 44,
     "metadata": {},
     "output_type": "execute_result"
    },
    {
     "data": {
      "image/png": "[encoded data removed]",
      "text/plain": [
       "<Figure size 432x288 with 1 Axes>"
      ]
     },
     "metadata": {},
     "output_type": "display_data"
    }
   ],
   "source": [
    "Cost_df.plot()"
   ]
  },
  {
   "cell_type": "code",
   "execution_count": 52,
   "metadata": {},
   "outputs": [
    {
     "data": {
      "text/html": [
       "<div>\n",
       "<style scoped>\n",
       "    .dataframe tbody tr th:only-of-type {\n",
       "        vertical-align: middle;\n",
       "    }\n",
       "\n",
       "    .dataframe tbody tr th {\n",
       "        vertical-align: top;\n",
       "    }\n",
       "\n",
       "    .dataframe thead th {\n",
       "        text-align: right;\n",
       "    }\n",
       "</style>\n",
       "<table border=\"1\" class=\"dataframe\">\n",
       "  <thead>\n",
       "    <tr style=\"text-align: right;\">\n",
       "      <th></th>\n",
       "      <th>Cost_F</th>\n",
       "      <th>w</th>\n",
       "    </tr>\n",
       "  </thead>\n",
       "  <tbody>\n",
       "    <tr>\n",
       "      <th>390</th>\n",
       "      <td>43412.5</td>\n",
       "      <td>390</td>\n",
       "    </tr>\n",
       "  </tbody>\n",
       "</table>\n",
       "</div>"
      ],
      "text/plain": [
       "      Cost_F    w\n",
       "390  43412.5  390"
      ]
     },
     "execution_count": 52,
     "metadata": {},
     "output_type": "execute_result"
    }
   ],
   "source": [
    "Cost_df[Cost_df['Cost_F'] == Cost_df['Cost_F'].min()]\n"
   ]
  },
  {
   "cell_type": "code",
   "execution_count": 9,
   "metadata": {},
   "outputs": [
    {
     "name": "stdout",
     "output_type": "stream",
     "text": [
      "[1. 2.]\n",
      "[300. 500.]\n"
     ]
    }
   ],
   "source": [
    "print(x_train)\n",
    "print(y_train)\n"
   ]
  },
  {
   "cell_type": "markdown",
   "metadata": {},
   "source": [
    "## for i in range(2):\n",
    "    print(i)"
   ]
  },
  {
   "cell_type": "markdown",
   "metadata": {},
   "source": [
    "<details>\n",
    "<summary>\n",
    "    <font size='3', color='darkgreen'><b>Hints</b></font>\n",
    "</summary>\n",
    "    <p>\n",
    "    <ul>\n",
    "        <li>Try $w = 200$ and $b = 100$ </li>\n",
    "    </ul>\n",
    "    </p>"
   ]
  },
  {
   "cell_type": "markdown",
   "metadata": {},
   "source": [
    "### Prediction\n",
    "Now that we have a model, we can use it to make our original prediction. Let's predict the price of a house with 1200 sqft. Since the units of $x$ are in 1000's of sqft, $x$ is 1.2.\n"
   ]
  },
  {
   "cell_type": "code",
   "execution_count": 12,
   "metadata": {},
   "outputs": [
    {
     "name": "stdout",
     "output_type": "stream",
     "text": [
      "$340 thousand dollars\n"
     ]
    }
   ],
   "source": [
    "w = 200                         \n",
    "b = 100    \n",
    "x_i = 1.2\n",
    "cost_1200sqft = w * x_i + b    \n",
    "\n",
    "print(f\"${cost_1200sqft:.0f} thousand dollars\")"
   ]
  },
  {
   "cell_type": "markdown",
   "metadata": {},
   "source": [
    "# Congratulations!\n",
    "In this lab you have learned:\n",
    " - Linear regression builds a model which establishes a relationship between features and targets\n",
    "     - In the example above, the feature was house size and the target was house price\n",
    "     - for simple linear regression, the model has two parameters $w$ and $b$ whose values are 'fit' using *training data*.\n",
    "     - once a model's parameters have been determined, the model can be used to make predictions on novel data."
   ]
  },
  {
   "cell_type": "code",
   "execution_count": null,
   "metadata": {},
   "outputs": [],
   "source": []
  },
  {
   "cell_type": "code",
   "execution_count": null,
   "metadata": {},
   "outputs": [],
   "source": []
  },
  {
   "cell_type": "code",
   "execution_count": null,
   "metadata": {},
   "outputs": [],
   "source": []
  }
 ],
 "metadata": {
  "kernelspec": {
   "display_name": "Python 3",
   "language": "python",
   "name": "python3"
  },
  "language_info": {
   "codemirror_mode": {
    "name": "ipython",
    "version": 3
   },
   "file_extension": ".py",
   "mimetype": "text/x-python",
   "name": "python",
   "nbconvert_exporter": "python",
   "pygments_lexer": "ipython3",
   "version": "3.7.6"
  },
  "toc-autonumbering": false
 },
 "nbformat": 4,
 "nbformat_minor": 5
}
